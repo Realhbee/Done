{
 "cells": [
  {
   "cell_type": "code",
   "execution_count": 152,
   "id": "f8a458a7",
   "metadata": {},
   "outputs": [],
   "source": [
    "#The requests library is needed to make HTTP requests e.g. GET requests for API interaction\n",
    "import requests\n",
    "\n",
    "#The pandas library will be used to make the input excel file usable by the python environment.\n",
    "import pandas as pd\n",
    "\n",
    "#The os library is used for writing/saving files to the system\n",
    "import os"
   ]
  },
  {
   "cell_type": "code",
   "execution_count": 153,
   "id": "d2d5eb54",
   "metadata": {},
   "outputs": [],
   "source": [
    "#The function takes in the first and last name from the main function\n",
    "def call_namsor_api(first_name, last_name):\n",
    "    #This URL is the GET url for requesting Diaspora information, obtained from the site: https://namsor.app/api-documentation#name-diaspora-batch\n",
    "    api_url = f\"https://v2.namsor.com/NamSorAPIv2/api2/json/diaspora/GBR/{first_name}/{last_name}\"\n",
    "\n",
    "    #API key retrieved from website\n",
    "    headers = {\n",
    "        \"X-API-KEY\": \"c2cabda24189e75bf665f9c9153228fa\"\n",
    "    }\n",
    "\n",
    "    #Use the GET function to access the api_url taking in the API key\n",
    "    response = requests.get(api_url, headers=headers)\n",
    "\n",
    "    #Return the json formatted ethnicity and ethnicityAlt for each name\n",
    "    return response.json()"
   ]
  },
  {
   "cell_type": "code",
   "execution_count": 154,
   "id": "a2d7d875",
   "metadata": {},
   "outputs": [],
   "source": [
    "def main():\n",
    "    #define the input and output file paths\n",
    "    input_file = \"/Users/habeeblanlokun/Downloads/Names_List.xlsx\"\n",
    "    output_folder = \"/Users/habeeblanlokun/Downloads\"\n",
    "   \n",
    "\n",
    "    #Load the input file, specify the sheet containing the names: Sheet3\n",
    "    name_list = pd.read_excel(input_file, sheet_name='Sheet3')\n",
    "\n",
    "    #Parse through the names using a for loop\n",
    "    for index, row in name_list.iterrows():\n",
    "\n",
    "        #map the first name to the variable 'first_name'\n",
    "        first_name = row[\"First Name\"]\n",
    "\n",
    "        #map the last name to the variable 'last_name'\n",
    "        last_name = row[\"Last Name\"]\n",
    "\n",
    "        #Call the Namsor API function and assign the output to 'response'\n",
    "        response = call_namsor_api(first_name, last_name)\n",
    "\n",
    "        # Extract ethnicity and alternate ethnicity values from the response\n",
    "        ethnicity = response.get(\"ethnicity\", \"\")\n",
    "        ethnicity_alt = response.get(\"ethnicityAlt\", \"\")\n",
    "\n",
    "        #Update the DataFrame with ethnicity and alternate ethnicity values\n",
    "        name_list.at[index, \"Ethnicity\"] = ethnicity\n",
    "        name_list.at[index, \"Alternate Ethnicity\"] = ethnicity_alt\n",
    "\n",
    "        # Save API response to a file\n",
    "        output_filename = os.path.join( output_folder,f\" {first_name}_{last_name}.txt\")\n",
    "        with open(output_filename, \"w\", encoding=\"utf-8\") as output_file:\n",
    "            output_file.write(str(response))\n",
    "\n",
    "    # Save the updated DataFrame back to the Excel file, with no indexing.\n",
    "    name_list.to_excel(\"Updated_Names_List.xlsx\", index=False, engine=\"openpyxl\")\n",
    "\n",
    "#Execute the main function when the program is run\n",
    "if __name__ == \"__main__\":\n",
    "    main()"
   ]
  },
  {
   "cell_type": "code",
   "execution_count": null,
   "id": "883bec35",
   "metadata": {},
   "outputs": [],
   "source": []
  }
 ],
 "metadata": {
  "kernelspec": {
   "display_name": "Python 3 (ipykernel)",
   "language": "python",
   "name": "python3"
  },
  "language_info": {
   "codemirror_mode": {
    "name": "ipython",
    "version": 3
   },
   "file_extension": ".py",
   "mimetype": "text/x-python",
   "name": "python",
   "nbconvert_exporter": "python",
   "pygments_lexer": "ipython3",
   "version": "3.9.13"
  }
 },
 "nbformat": 4,
 "nbformat_minor": 5
}
